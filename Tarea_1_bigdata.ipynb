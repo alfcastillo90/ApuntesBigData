{
  "nbformat": 4,
  "nbformat_minor": 0,
  "metadata": {
    "colab": {
      "provenance": [],
      "authorship_tag": "ABX9TyPeYyyOyok9Dm8l9nNjixGB",
      "include_colab_link": true
    },
    "kernelspec": {
      "name": "python3",
      "display_name": "Python 3"
    },
    "language_info": {
      "name": "python"
    }
  },
  "cells": [
    {
      "cell_type": "markdown",
      "metadata": {
        "id": "view-in-github",
        "colab_type": "text"
      },
      "source": [
        "<a href=\"https://colab.research.google.com/github/alfcastillo90/ApuntesBigData/blob/main/Tarea_1_bigdata.ipynb\" target=\"_parent\"><img src=\"https://colab.research.google.com/assets/colab-badge.svg\" alt=\"Open In Colab\"/></a>"
      ]
    },
    {
      "cell_type": "code",
      "execution_count": 1,
      "metadata": {
        "id": "WUr-5VS1VEmT"
      },
      "outputs": [],
      "source": [
        "#Tarea\n",
        "# 1) Seleccionar un producto\n",
        "# 2) Identificar las sesiones de carrito que tiene ese producto\n",
        "# 3) identificar los productos que pertenecen al mismo carrito que el producto seleccionado\n"
      ]
    },
    {
      "cell_type": "code",
      "source": [
        "#Hacemos un montaje en google drive\n",
        "from google.colab import drive\n",
        "\n",
        "drive.mount('/content/gdrive')\n",
        "\n",
        "gdrive = 'content/gdrive/MyDrive/Estudios/UBO/BIGDATA'"
      ],
      "metadata": {
        "colab": {
          "base_uri": "https://localhost:8080/"
        },
        "id": "pmCFpZj2VVCP",
        "outputId": "c2b50bcd-6a40-43e1-920e-0491b3b5ff82"
      },
      "execution_count": 2,
      "outputs": [
        {
          "output_type": "stream",
          "name": "stdout",
          "text": [
            "Mounted at /content/gdrive\n"
          ]
        }
      ]
    },
    {
      "cell_type": "code",
      "source": [
        "#Instalamos todas las librerias necesarias\n",
        "%%capture\n",
        "!apt-get install openjdk-8-jdk-headless -qq > /dev/null\n",
        "!wget 'https://dlcdn.apache.org/spark/spark-3.3.1/spark-3.3.1-bin-hadoop3.tgz' -O 'spark-3.3.1-bin-hadoop3.tgz'\n",
        "!tar -xvf /content/spark-3.3.1-bin-hadoop3.tgz\n",
        "!pip install -q findspark"
      ],
      "metadata": {
        "id": "66eGtH02VjrN"
      },
      "execution_count": 3,
      "outputs": []
    },
    {
      "cell_type": "code",
      "source": [
        "#Definimos las variables de entorno\n",
        "import os\n",
        "os.environ['JAVA_HOME'] = '/usr/lib/jvm/java-8-openjdk-amd64'\n",
        "os.environ['SPARK_HOME'] = '/content/spark-3.3.1-bin-hadoop3'"
      ],
      "metadata": {
        "id": "sQm-jm4nVpnY"
      },
      "execution_count": 4,
      "outputs": []
    },
    {
      "cell_type": "code",
      "source": [
        "#Construimos la sesion de spark\n",
        "import findspark\n",
        "findspark.init()\n",
        "\n",
        "from pyspark.sql import SparkSession\n",
        "\n",
        "#El asterisco representa que se vana  ocupar todos los recursos\n",
        "spark = SparkSession.builder.master(\"local[*]\").appName('tarea1').getOrCreate()\n"
      ],
      "metadata": {
        "id": "dt-yHqLKV0gB"
      },
      "execution_count": 5,
      "outputs": []
    },
    {
      "cell_type": "code",
      "source": [
        "#descomprimimos el archivo\n",
        "!unzip '/content/gdrive/MyDrive/Estudios/UBO/BIGDATA/archive.zip'"
      ],
      "metadata": {
        "colab": {
          "base_uri": "https://localhost:8080/"
        },
        "id": "eyHOjo6aV53P",
        "outputId": "4561b9da-77e4-42a7-908d-dc36962d9b44"
      },
      "execution_count": 7,
      "outputs": [
        {
          "output_type": "stream",
          "name": "stdout",
          "text": [
            "Archive:  /content/gdrive/MyDrive/Estudios/UBO/BIGDATA/archive.zip\n",
            "  inflating: 2019-Dec.csv            \n",
            "  inflating: 2019-Nov.csv            \n",
            "  inflating: 2019-Oct.csv            \n",
            "  inflating: 2020-Feb.csv            \n",
            "  inflating: 2020-Jan.csv            \n"
          ]
        }
      ]
    },
    {
      "cell_type": "code",
      "source": [
        "#Creamos el data frame\n",
        "df = spark.read.options(header='True', inferSchema='True').csv('/content/*.csv')\n"
      ],
      "metadata": {
        "id": "0E2mHRMBWMNv"
      },
      "execution_count": 8,
      "outputs": []
    },
    {
      "cell_type": "code",
      "source": [
        "#Creamos una tabla temporal\n",
        "df.createOrReplaceTempView('data');"
      ],
      "metadata": {
        "id": "1i1GK1g6WWt_"
      },
      "execution_count": 13,
      "outputs": []
    },
    {
      "cell_type": "code",
      "source": [
        "#Identificamos los campos\n",
        "df.printSchema()"
      ],
      "metadata": {
        "colab": {
          "base_uri": "https://localhost:8080/"
        },
        "id": "Hz7DjFlqZFaY",
        "outputId": "7a4e98d7-0c82-45ef-e3e2-ee6ffd9c42cc"
      },
      "execution_count": 16,
      "outputs": [
        {
          "output_type": "stream",
          "name": "stdout",
          "text": [
            "root\n",
            " |-- event_time: timestamp (nullable = true)\n",
            " |-- event_type: string (nullable = true)\n",
            " |-- product_id: integer (nullable = true)\n",
            " |-- category_id: long (nullable = true)\n",
            " |-- category_code: string (nullable = true)\n",
            " |-- brand: string (nullable = true)\n",
            " |-- price: double (nullable = true)\n",
            " |-- user_id: integer (nullable = true)\n",
            " |-- user_session: string (nullable = true)\n",
            "\n"
          ]
        }
      ]
    },
    {
      "cell_type": "code",
      "source": [
        "\n",
        "#listamos los productos cuyo tipo de evento sea igual a carrito, con el fin de escoger el que tenga el contador mayor\n",
        "spark.sql('select product_id, count(*) contador from data where event_type=\"cart\" group by product_id order by contador desc limit 1').show()"
      ],
      "metadata": {
        "colab": {
          "base_uri": "https://localhost:8080/"
        },
        "id": "C85eU_RaYPkf",
        "outputId": "2e145ff0-8e89-4ff6-d98f-1af5dd82056f"
      },
      "execution_count": 15,
      "outputs": [
        {
          "output_type": "stream",
          "name": "stdout",
          "text": [
            "+----------+--------+\n",
            "|product_id|contador|\n",
            "+----------+--------+\n",
            "|   5700037|   28347|\n",
            "+----------+--------+\n",
            "\n"
          ]
        }
      ]
    },
    {
      "cell_type": "code",
      "source": [
        "#product_id escogido\n",
        "productId = \"5700037\"\n",
        "print('product_id escogido', productId)\n",
        "#Identificamos las sesiones del carrito que tienen ese producto\n",
        "userSessionsQuery = 'select user_session from data where event_type=\"cart\" and product_id=\"'+productId+'\" limit 10'\n",
        "spark.sql(userSessionsQuery).show()"
      ],
      "metadata": {
        "colab": {
          "base_uri": "https://localhost:8080/"
        },
        "id": "iqbwjzbFYlHY",
        "outputId": "932d70d9-bf7d-4b04-8f53-d1c999e0742d"
      },
      "execution_count": 21,
      "outputs": [
        {
          "output_type": "stream",
          "name": "stdout",
          "text": [
            "product_id escogido 5700037\n",
            "+--------------------+\n",
            "|        user_session|\n",
            "+--------------------+\n",
            "|9caff1dd-7437-456...|\n",
            "|112e47bb-3af7-419...|\n",
            "|d545859b-eb3f-473...|\n",
            "|d545859b-eb3f-473...|\n",
            "|d545859b-eb3f-473...|\n",
            "|bb6ece2f-f127-633...|\n",
            "|bb6ece2f-f127-633...|\n",
            "|bb6ece2f-f127-633...|\n",
            "|bb6ece2f-f127-633...|\n",
            "|809cc5d7-55db-450...|\n",
            "+--------------------+\n",
            "\n"
          ]
        }
      ]
    },
    {
      "cell_type": "code",
      "source": [
        "#Identificamos los otros productos que comparten carrito con el id de producto seleccionado previamente\n",
        "productUserSessionQuery = 'select product_id from data where user_session in ('+userSessionsQuery+')'\n",
        "spark.sql(productUserSessionQuery).show()"
      ],
      "metadata": {
        "colab": {
          "base_uri": "https://localhost:8080/"
        },
        "id": "wWY3C2dpayts",
        "outputId": "89ba31c5-9cab-4699-faa2-84f121a1ff11"
      },
      "execution_count": 23,
      "outputs": [
        {
          "output_type": "stream",
          "name": "stdout",
          "text": [
            "+----------+\n",
            "|product_id|\n",
            "+----------+\n",
            "|   5862564|\n",
            "|   5587652|\n",
            "|   5587658|\n",
            "|   5896429|\n",
            "|   5896421|\n",
            "|   5896421|\n",
            "|   5587652|\n",
            "|   5587652|\n",
            "|   5896429|\n",
            "|   5896429|\n",
            "|   5896429|\n",
            "|   5700037|\n",
            "|   5700038|\n",
            "|   5565816|\n",
            "|   5700049|\n",
            "|   5565816|\n",
            "|   5565816|\n",
            "|   5565816|\n",
            "|   5695956|\n",
            "|   5758630|\n",
            "+----------+\n",
            "only showing top 20 rows\n",
            "\n"
          ]
        }
      ]
    },
    {
      "cell_type": "code",
      "source": [],
      "metadata": {
        "id": "UfzxE7zSYPxN"
      },
      "execution_count": null,
      "outputs": []
    }
  ]
}